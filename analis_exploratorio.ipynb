{
 "cells": [
  {
   "cell_type": "code",
   "execution_count": 22,
   "metadata": {
    "ExecuteTime": {
     "end_time": "2023-07-01T01:43:40.892720500Z",
     "start_time": "2023-07-01T01:43:40.868806400Z"
    }
   },
   "outputs": [],
   "source": [
    "import pandas as pd\n",
    "import numpy as np\n",
    "import seaborn as sns\n",
    "import matplotlib.pyplot as plt\n",
    "import plotly as px"
   ]
  },
  {
   "cell_type": "code",
   "execution_count": 23,
   "metadata": {
    "ExecuteTime": {
     "end_time": "2023-07-01T01:44:00.781280900Z",
     "start_time": "2023-07-01T01:43:43.025578800Z"
    }
   },
   "outputs": [
    {
     "data": {
      "text/plain": "         FECHA_CORTE DEPARTAMENTO         PROVINCIA     DISTRITO METODODX  \\\n0           20230619       CALLAO            CALLAO       CALLAO       PR   \n1           20230619   LAMBAYEQUE          CHICLAYO     CHICLAYO      PCR   \n2           20230619        TACNA             TACNA        TACNA      PCR   \n3           20230619     AREQUIPA          AREQUIPA     AREQUIPA      PCR   \n4           20230619         LIMA              LIMA   SAN MIGUEL      PCR   \n...              ...          ...               ...          ...      ...   \n4512086     20230619         LIMA              LIMA  EL AGUSTINO      PCR   \n4512087     20230619       CALLAO            CALLAO       CALLAO      PCR   \n4512088     20230619      UCAYALI  CORONEL PORTILLO     CALLERIA       AG   \n4512089     20230619       CALLAO            CALLAO       CALLAO      PCR   \n4512090     20230619       CALLAO            CALLAO       CALLAO       PR   \n\n         EDAD       SEXO  FECHA_RESULTADO    UBIGEO  id_persona  \n0        34.0   FEMENINO       20200815.0   70101.0  13913755.0  \n1        36.0  MASCULINO       20220801.0  140101.0  13913762.0  \n2        55.0  MASCULINO       20201026.0  230101.0  13914093.0  \n3        59.0   FEMENINO       20210511.0   40101.0  13914112.0  \n4        25.0   FEMENINO       20200911.0  150136.0  13914350.0  \n...       ...        ...              ...       ...         ...  \n4512086  41.0  MASCULINO       20220117.0  150111.0         NaN  \n4512087  50.0   FEMENINO       20220206.0   70101.0         NaN  \n4512088   0.0   FEMENINO       20220816.0  250101.0         NaN  \n4512089  52.0  MASCULINO       20210911.0   70101.0         NaN  \n4512090  27.0   FEMENINO       20201026.0   70101.0         NaN  \n\n[4512091 rows x 10 columns]",
      "text/html": "<div>\n<style scoped>\n    .dataframe tbody tr th:only-of-type {\n        vertical-align: middle;\n    }\n\n    .dataframe tbody tr th {\n        vertical-align: top;\n    }\n\n    .dataframe thead th {\n        text-align: right;\n    }\n</style>\n<table border=\"1\" class=\"dataframe\">\n  <thead>\n    <tr style=\"text-align: right;\">\n      <th></th>\n      <th>FECHA_CORTE</th>\n      <th>DEPARTAMENTO</th>\n      <th>PROVINCIA</th>\n      <th>DISTRITO</th>\n      <th>METODODX</th>\n      <th>EDAD</th>\n      <th>SEXO</th>\n      <th>FECHA_RESULTADO</th>\n      <th>UBIGEO</th>\n      <th>id_persona</th>\n    </tr>\n  </thead>\n  <tbody>\n    <tr>\n      <th>0</th>\n      <td>20230619</td>\n      <td>CALLAO</td>\n      <td>CALLAO</td>\n      <td>CALLAO</td>\n      <td>PR</td>\n      <td>34.0</td>\n      <td>FEMENINO</td>\n      <td>20200815.0</td>\n      <td>70101.0</td>\n      <td>13913755.0</td>\n    </tr>\n    <tr>\n      <th>1</th>\n      <td>20230619</td>\n      <td>LAMBAYEQUE</td>\n      <td>CHICLAYO</td>\n      <td>CHICLAYO</td>\n      <td>PCR</td>\n      <td>36.0</td>\n      <td>MASCULINO</td>\n      <td>20220801.0</td>\n      <td>140101.0</td>\n      <td>13913762.0</td>\n    </tr>\n    <tr>\n      <th>2</th>\n      <td>20230619</td>\n      <td>TACNA</td>\n      <td>TACNA</td>\n      <td>TACNA</td>\n      <td>PCR</td>\n      <td>55.0</td>\n      <td>MASCULINO</td>\n      <td>20201026.0</td>\n      <td>230101.0</td>\n      <td>13914093.0</td>\n    </tr>\n    <tr>\n      <th>3</th>\n      <td>20230619</td>\n      <td>AREQUIPA</td>\n      <td>AREQUIPA</td>\n      <td>AREQUIPA</td>\n      <td>PCR</td>\n      <td>59.0</td>\n      <td>FEMENINO</td>\n      <td>20210511.0</td>\n      <td>40101.0</td>\n      <td>13914112.0</td>\n    </tr>\n    <tr>\n      <th>4</th>\n      <td>20230619</td>\n      <td>LIMA</td>\n      <td>LIMA</td>\n      <td>SAN MIGUEL</td>\n      <td>PCR</td>\n      <td>25.0</td>\n      <td>FEMENINO</td>\n      <td>20200911.0</td>\n      <td>150136.0</td>\n      <td>13914350.0</td>\n    </tr>\n    <tr>\n      <th>...</th>\n      <td>...</td>\n      <td>...</td>\n      <td>...</td>\n      <td>...</td>\n      <td>...</td>\n      <td>...</td>\n      <td>...</td>\n      <td>...</td>\n      <td>...</td>\n      <td>...</td>\n    </tr>\n    <tr>\n      <th>4512086</th>\n      <td>20230619</td>\n      <td>LIMA</td>\n      <td>LIMA</td>\n      <td>EL AGUSTINO</td>\n      <td>PCR</td>\n      <td>41.0</td>\n      <td>MASCULINO</td>\n      <td>20220117.0</td>\n      <td>150111.0</td>\n      <td>NaN</td>\n    </tr>\n    <tr>\n      <th>4512087</th>\n      <td>20230619</td>\n      <td>CALLAO</td>\n      <td>CALLAO</td>\n      <td>CALLAO</td>\n      <td>PCR</td>\n      <td>50.0</td>\n      <td>FEMENINO</td>\n      <td>20220206.0</td>\n      <td>70101.0</td>\n      <td>NaN</td>\n    </tr>\n    <tr>\n      <th>4512088</th>\n      <td>20230619</td>\n      <td>UCAYALI</td>\n      <td>CORONEL PORTILLO</td>\n      <td>CALLERIA</td>\n      <td>AG</td>\n      <td>0.0</td>\n      <td>FEMENINO</td>\n      <td>20220816.0</td>\n      <td>250101.0</td>\n      <td>NaN</td>\n    </tr>\n    <tr>\n      <th>4512089</th>\n      <td>20230619</td>\n      <td>CALLAO</td>\n      <td>CALLAO</td>\n      <td>CALLAO</td>\n      <td>PCR</td>\n      <td>52.0</td>\n      <td>MASCULINO</td>\n      <td>20210911.0</td>\n      <td>70101.0</td>\n      <td>NaN</td>\n    </tr>\n    <tr>\n      <th>4512090</th>\n      <td>20230619</td>\n      <td>CALLAO</td>\n      <td>CALLAO</td>\n      <td>CALLAO</td>\n      <td>PR</td>\n      <td>27.0</td>\n      <td>FEMENINO</td>\n      <td>20201026.0</td>\n      <td>70101.0</td>\n      <td>NaN</td>\n    </tr>\n  </tbody>\n</table>\n<p>4512091 rows × 10 columns</p>\n</div>"
     },
     "execution_count": 23,
     "metadata": {},
     "output_type": "execute_result"
    }
   ],
   "source": [
    "url = \"https://media.githubusercontent.com/media/LlaczaData/Casos_covid_positivo_Peru/main/positivos_covid.csv\"\n",
    "df_casos = pd.read_csv(url, sep=\";\")\n",
    "df_casos"
   ]
  },
  {
   "cell_type": "code",
   "execution_count": 7,
   "metadata": {
    "ExecuteTime": {
     "end_time": "2023-07-01T00:25:18.504023900Z",
     "start_time": "2023-07-01T00:25:18.452618100Z"
    },
    "collapsed": false
   },
   "outputs": [
    {
     "data": {
      "text/html": [
       "<div>\n",
       "<style scoped>\n",
       "    .dataframe tbody tr th:only-of-type {\n",
       "        vertical-align: middle;\n",
       "    }\n",
       "\n",
       "    .dataframe tbody tr th {\n",
       "        vertical-align: top;\n",
       "    }\n",
       "\n",
       "    .dataframe thead th {\n",
       "        text-align: right;\n",
       "    }\n",
       "</style>\n",
       "<table border=\"1\" class=\"dataframe\">\n",
       "  <thead>\n",
       "    <tr style=\"text-align: right;\">\n",
       "      <th></th>\n",
       "      <th>FECHA_CORTE</th>\n",
       "      <th>DEPARTAMENTO</th>\n",
       "      <th>PROVINCIA</th>\n",
       "      <th>DISTRITO</th>\n",
       "      <th>METODODX</th>\n",
       "      <th>EDAD</th>\n",
       "      <th>SEXO</th>\n",
       "      <th>FECHA_RESULTADO</th>\n",
       "      <th>UBIGEO</th>\n",
       "      <th>id_persona</th>\n",
       "    </tr>\n",
       "  </thead>\n",
       "  <tbody>\n",
       "    <tr>\n",
       "      <th>0</th>\n",
       "      <td>20230619</td>\n",
       "      <td>CALLAO</td>\n",
       "      <td>CALLAO</td>\n",
       "      <td>CALLAO</td>\n",
       "      <td>PR</td>\n",
       "      <td>34.0</td>\n",
       "      <td>FEMENINO</td>\n",
       "      <td>20200815.0</td>\n",
       "      <td>70101.0</td>\n",
       "      <td>13913755.0</td>\n",
       "    </tr>\n",
       "    <tr>\n",
       "      <th>1</th>\n",
       "      <td>20230619</td>\n",
       "      <td>LAMBAYEQUE</td>\n",
       "      <td>CHICLAYO</td>\n",
       "      <td>CHICLAYO</td>\n",
       "      <td>PCR</td>\n",
       "      <td>36.0</td>\n",
       "      <td>MASCULINO</td>\n",
       "      <td>20220801.0</td>\n",
       "      <td>140101.0</td>\n",
       "      <td>13913762.0</td>\n",
       "    </tr>\n",
       "    <tr>\n",
       "      <th>2</th>\n",
       "      <td>20230619</td>\n",
       "      <td>TACNA</td>\n",
       "      <td>TACNA</td>\n",
       "      <td>TACNA</td>\n",
       "      <td>PCR</td>\n",
       "      <td>55.0</td>\n",
       "      <td>MASCULINO</td>\n",
       "      <td>20201026.0</td>\n",
       "      <td>230101.0</td>\n",
       "      <td>13914093.0</td>\n",
       "    </tr>\n",
       "    <tr>\n",
       "      <th>3</th>\n",
       "      <td>20230619</td>\n",
       "      <td>AREQUIPA</td>\n",
       "      <td>AREQUIPA</td>\n",
       "      <td>AREQUIPA</td>\n",
       "      <td>PCR</td>\n",
       "      <td>59.0</td>\n",
       "      <td>FEMENINO</td>\n",
       "      <td>20210511.0</td>\n",
       "      <td>40101.0</td>\n",
       "      <td>13914112.0</td>\n",
       "    </tr>\n",
       "    <tr>\n",
       "      <th>4</th>\n",
       "      <td>20230619</td>\n",
       "      <td>LIMA</td>\n",
       "      <td>LIMA</td>\n",
       "      <td>SAN MIGUEL</td>\n",
       "      <td>PCR</td>\n",
       "      <td>25.0</td>\n",
       "      <td>FEMENINO</td>\n",
       "      <td>20200911.0</td>\n",
       "      <td>150136.0</td>\n",
       "      <td>13914350.0</td>\n",
       "    </tr>\n",
       "    <tr>\n",
       "      <th>5</th>\n",
       "      <td>20230619</td>\n",
       "      <td>LA LIBERTAD</td>\n",
       "      <td>PATAZ</td>\n",
       "      <td>PATAZ</td>\n",
       "      <td>PR</td>\n",
       "      <td>25.0</td>\n",
       "      <td>FEMENINO</td>\n",
       "      <td>20200610.0</td>\n",
       "      <td>130809.0</td>\n",
       "      <td>13914350.0</td>\n",
       "    </tr>\n",
       "    <tr>\n",
       "      <th>6</th>\n",
       "      <td>20230619</td>\n",
       "      <td>LIMA</td>\n",
       "      <td>HUARAL</td>\n",
       "      <td>CHANCAY</td>\n",
       "      <td>AG</td>\n",
       "      <td>49.0</td>\n",
       "      <td>MASCULINO</td>\n",
       "      <td>20210520.0</td>\n",
       "      <td>150605.0</td>\n",
       "      <td>13913482.0</td>\n",
       "    </tr>\n",
       "    <tr>\n",
       "      <th>7</th>\n",
       "      <td>20230619</td>\n",
       "      <td>LIMA</td>\n",
       "      <td>HUARAL</td>\n",
       "      <td>CHANCAY</td>\n",
       "      <td>AG</td>\n",
       "      <td>46.0</td>\n",
       "      <td>MASCULINO</td>\n",
       "      <td>20220802.0</td>\n",
       "      <td>150605.0</td>\n",
       "      <td>13913487.0</td>\n",
       "    </tr>\n",
       "    <tr>\n",
       "      <th>8</th>\n",
       "      <td>20230619</td>\n",
       "      <td>LIMA</td>\n",
       "      <td>LIMA</td>\n",
       "      <td>MIRAFLORES</td>\n",
       "      <td>PCR</td>\n",
       "      <td>48.0</td>\n",
       "      <td>MASCULINO</td>\n",
       "      <td>20220129.0</td>\n",
       "      <td>150122.0</td>\n",
       "      <td>13913490.0</td>\n",
       "    </tr>\n",
       "    <tr>\n",
       "      <th>9</th>\n",
       "      <td>20230619</td>\n",
       "      <td>LIMA</td>\n",
       "      <td>LIMA</td>\n",
       "      <td>SAN JUAN DE LURIGANCHO</td>\n",
       "      <td>PR</td>\n",
       "      <td>44.0</td>\n",
       "      <td>MASCULINO</td>\n",
       "      <td>20200926.0</td>\n",
       "      <td>150132.0</td>\n",
       "      <td>13913494.0</td>\n",
       "    </tr>\n",
       "  </tbody>\n",
       "</table>\n",
       "</div>"
      ],
      "text/plain": [
       "   FECHA_CORTE DEPARTAMENTO PROVINCIA                DISTRITO METODODX  EDAD  \\\n",
       "0     20230619       CALLAO    CALLAO                  CALLAO       PR  34.0   \n",
       "1     20230619   LAMBAYEQUE  CHICLAYO                CHICLAYO      PCR  36.0   \n",
       "2     20230619        TACNA     TACNA                   TACNA      PCR  55.0   \n",
       "3     20230619     AREQUIPA  AREQUIPA                AREQUIPA      PCR  59.0   \n",
       "4     20230619         LIMA      LIMA              SAN MIGUEL      PCR  25.0   \n",
       "5     20230619  LA LIBERTAD     PATAZ                   PATAZ       PR  25.0   \n",
       "6     20230619         LIMA    HUARAL                 CHANCAY       AG  49.0   \n",
       "7     20230619         LIMA    HUARAL                 CHANCAY       AG  46.0   \n",
       "8     20230619         LIMA      LIMA              MIRAFLORES      PCR  48.0   \n",
       "9     20230619         LIMA      LIMA  SAN JUAN DE LURIGANCHO       PR  44.0   \n",
       "\n",
       "        SEXO  FECHA_RESULTADO    UBIGEO  id_persona  \n",
       "0   FEMENINO       20200815.0   70101.0  13913755.0  \n",
       "1  MASCULINO       20220801.0  140101.0  13913762.0  \n",
       "2  MASCULINO       20201026.0  230101.0  13914093.0  \n",
       "3   FEMENINO       20210511.0   40101.0  13914112.0  \n",
       "4   FEMENINO       20200911.0  150136.0  13914350.0  \n",
       "5   FEMENINO       20200610.0  130809.0  13914350.0  \n",
       "6  MASCULINO       20210520.0  150605.0  13913482.0  \n",
       "7  MASCULINO       20220802.0  150605.0  13913487.0  \n",
       "8  MASCULINO       20220129.0  150122.0  13913490.0  \n",
       "9  MASCULINO       20200926.0  150132.0  13913494.0  "
      ]
     },
     "execution_count": 7,
     "metadata": {},
     "output_type": "execute_result"
    }
   ],
   "source": [
    "df_casos.head(10)"
   ]
  },
  {
   "cell_type": "code",
   "execution_count": 8,
   "metadata": {
    "ExecuteTime": {
     "end_time": "2023-07-01T00:25:31.508407300Z",
     "start_time": "2023-07-01T00:25:31.455995700Z"
    },
    "collapsed": false
   },
   "outputs": [
    {
     "data": {
      "text/html": [
       "<div>\n",
       "<style scoped>\n",
       "    .dataframe tbody tr th:only-of-type {\n",
       "        vertical-align: middle;\n",
       "    }\n",
       "\n",
       "    .dataframe tbody tr th {\n",
       "        vertical-align: top;\n",
       "    }\n",
       "\n",
       "    .dataframe thead th {\n",
       "        text-align: right;\n",
       "    }\n",
       "</style>\n",
       "<table border=\"1\" class=\"dataframe\">\n",
       "  <thead>\n",
       "    <tr style=\"text-align: right;\">\n",
       "      <th></th>\n",
       "      <th>FECHA_CORTE</th>\n",
       "      <th>DEPARTAMENTO</th>\n",
       "      <th>PROVINCIA</th>\n",
       "      <th>DISTRITO</th>\n",
       "      <th>METODODX</th>\n",
       "      <th>EDAD</th>\n",
       "      <th>SEXO</th>\n",
       "      <th>FECHA_RESULTADO</th>\n",
       "      <th>UBIGEO</th>\n",
       "      <th>id_persona</th>\n",
       "    </tr>\n",
       "  </thead>\n",
       "  <tbody>\n",
       "    <tr>\n",
       "      <th>4512081</th>\n",
       "      <td>20230619</td>\n",
       "      <td>LAMBAYEQUE</td>\n",
       "      <td>CHICLAYO</td>\n",
       "      <td>CHICLAYO</td>\n",
       "      <td>AG</td>\n",
       "      <td>0.0</td>\n",
       "      <td>MASCULINO</td>\n",
       "      <td>20221130.0</td>\n",
       "      <td>140101.0</td>\n",
       "      <td>NaN</td>\n",
       "    </tr>\n",
       "    <tr>\n",
       "      <th>4512082</th>\n",
       "      <td>20230619</td>\n",
       "      <td>LIMA</td>\n",
       "      <td>LIMA</td>\n",
       "      <td>LIMA</td>\n",
       "      <td>PR</td>\n",
       "      <td>58.0</td>\n",
       "      <td>MASCULINO</td>\n",
       "      <td>20200620.0</td>\n",
       "      <td>150101.0</td>\n",
       "      <td>NaN</td>\n",
       "    </tr>\n",
       "    <tr>\n",
       "      <th>4512083</th>\n",
       "      <td>20230619</td>\n",
       "      <td>LIMA</td>\n",
       "      <td>LIMA</td>\n",
       "      <td>MAGDALENA DEL MAR</td>\n",
       "      <td>PCR</td>\n",
       "      <td>93.0</td>\n",
       "      <td>FEMENINO</td>\n",
       "      <td>20210516.0</td>\n",
       "      <td>150120.0</td>\n",
       "      <td>NaN</td>\n",
       "    </tr>\n",
       "    <tr>\n",
       "      <th>4512084</th>\n",
       "      <td>20230619</td>\n",
       "      <td>LIMA</td>\n",
       "      <td>LIMA</td>\n",
       "      <td>CHORRILLOS</td>\n",
       "      <td>PCR</td>\n",
       "      <td>39.0</td>\n",
       "      <td>FEMENINO</td>\n",
       "      <td>20210225.0</td>\n",
       "      <td>150108.0</td>\n",
       "      <td>NaN</td>\n",
       "    </tr>\n",
       "    <tr>\n",
       "      <th>4512085</th>\n",
       "      <td>20230619</td>\n",
       "      <td>LIMA</td>\n",
       "      <td>LIMA</td>\n",
       "      <td>SAN ISIDRO</td>\n",
       "      <td>PCR</td>\n",
       "      <td>56.0</td>\n",
       "      <td>MASCULINO</td>\n",
       "      <td>20220801.0</td>\n",
       "      <td>150131.0</td>\n",
       "      <td>NaN</td>\n",
       "    </tr>\n",
       "    <tr>\n",
       "      <th>4512086</th>\n",
       "      <td>20230619</td>\n",
       "      <td>LIMA</td>\n",
       "      <td>LIMA</td>\n",
       "      <td>EL AGUSTINO</td>\n",
       "      <td>PCR</td>\n",
       "      <td>41.0</td>\n",
       "      <td>MASCULINO</td>\n",
       "      <td>20220117.0</td>\n",
       "      <td>150111.0</td>\n",
       "      <td>NaN</td>\n",
       "    </tr>\n",
       "    <tr>\n",
       "      <th>4512087</th>\n",
       "      <td>20230619</td>\n",
       "      <td>CALLAO</td>\n",
       "      <td>CALLAO</td>\n",
       "      <td>CALLAO</td>\n",
       "      <td>PCR</td>\n",
       "      <td>50.0</td>\n",
       "      <td>FEMENINO</td>\n",
       "      <td>20220206.0</td>\n",
       "      <td>70101.0</td>\n",
       "      <td>NaN</td>\n",
       "    </tr>\n",
       "    <tr>\n",
       "      <th>4512088</th>\n",
       "      <td>20230619</td>\n",
       "      <td>UCAYALI</td>\n",
       "      <td>CORONEL PORTILLO</td>\n",
       "      <td>CALLERIA</td>\n",
       "      <td>AG</td>\n",
       "      <td>0.0</td>\n",
       "      <td>FEMENINO</td>\n",
       "      <td>20220816.0</td>\n",
       "      <td>250101.0</td>\n",
       "      <td>NaN</td>\n",
       "    </tr>\n",
       "    <tr>\n",
       "      <th>4512089</th>\n",
       "      <td>20230619</td>\n",
       "      <td>CALLAO</td>\n",
       "      <td>CALLAO</td>\n",
       "      <td>CALLAO</td>\n",
       "      <td>PCR</td>\n",
       "      <td>52.0</td>\n",
       "      <td>MASCULINO</td>\n",
       "      <td>20210911.0</td>\n",
       "      <td>70101.0</td>\n",
       "      <td>NaN</td>\n",
       "    </tr>\n",
       "    <tr>\n",
       "      <th>4512090</th>\n",
       "      <td>20230619</td>\n",
       "      <td>CALLAO</td>\n",
       "      <td>CALLAO</td>\n",
       "      <td>CALLAO</td>\n",
       "      <td>PR</td>\n",
       "      <td>27.0</td>\n",
       "      <td>FEMENINO</td>\n",
       "      <td>20201026.0</td>\n",
       "      <td>70101.0</td>\n",
       "      <td>NaN</td>\n",
       "    </tr>\n",
       "  </tbody>\n",
       "</table>\n",
       "</div>"
      ],
      "text/plain": [
       "         FECHA_CORTE DEPARTAMENTO         PROVINCIA           DISTRITO  \\\n",
       "4512081     20230619   LAMBAYEQUE          CHICLAYO           CHICLAYO   \n",
       "4512082     20230619         LIMA              LIMA               LIMA   \n",
       "4512083     20230619         LIMA              LIMA  MAGDALENA DEL MAR   \n",
       "4512084     20230619         LIMA              LIMA         CHORRILLOS   \n",
       "4512085     20230619         LIMA              LIMA         SAN ISIDRO   \n",
       "4512086     20230619         LIMA              LIMA        EL AGUSTINO   \n",
       "4512087     20230619       CALLAO            CALLAO             CALLAO   \n",
       "4512088     20230619      UCAYALI  CORONEL PORTILLO           CALLERIA   \n",
       "4512089     20230619       CALLAO            CALLAO             CALLAO   \n",
       "4512090     20230619       CALLAO            CALLAO             CALLAO   \n",
       "\n",
       "        METODODX  EDAD       SEXO  FECHA_RESULTADO    UBIGEO  id_persona  \n",
       "4512081       AG   0.0  MASCULINO       20221130.0  140101.0         NaN  \n",
       "4512082       PR  58.0  MASCULINO       20200620.0  150101.0         NaN  \n",
       "4512083      PCR  93.0   FEMENINO       20210516.0  150120.0         NaN  \n",
       "4512084      PCR  39.0   FEMENINO       20210225.0  150108.0         NaN  \n",
       "4512085      PCR  56.0  MASCULINO       20220801.0  150131.0         NaN  \n",
       "4512086      PCR  41.0  MASCULINO       20220117.0  150111.0         NaN  \n",
       "4512087      PCR  50.0   FEMENINO       20220206.0   70101.0         NaN  \n",
       "4512088       AG   0.0   FEMENINO       20220816.0  250101.0         NaN  \n",
       "4512089      PCR  52.0  MASCULINO       20210911.0   70101.0         NaN  \n",
       "4512090       PR  27.0   FEMENINO       20201026.0   70101.0         NaN  "
      ]
     },
     "execution_count": 8,
     "metadata": {},
     "output_type": "execute_result"
    }
   ],
   "source": [
    "df_casos.tail(10)"
   ]
  },
  {
   "cell_type": "code",
   "execution_count": 9,
   "metadata": {
    "ExecuteTime": {
     "end_time": "2023-07-01T00:25:43.405219800Z",
     "start_time": "2023-07-01T00:25:43.352193700Z"
    },
    "collapsed": false
   },
   "outputs": [
    {
     "name": "stdout",
     "output_type": "stream",
     "text": [
      "<class 'pandas.core.frame.DataFrame'>\n",
      "RangeIndex: 4512091 entries, 0 to 4512090\n",
      "Data columns (total 10 columns):\n",
      " #   Column           Dtype  \n",
      "---  ------           -----  \n",
      " 0   FECHA_CORTE      int64  \n",
      " 1   DEPARTAMENTO     object \n",
      " 2   PROVINCIA        object \n",
      " 3   DISTRITO         object \n",
      " 4   METODODX         object \n",
      " 5   EDAD             float64\n",
      " 6   SEXO             object \n",
      " 7   FECHA_RESULTADO  float64\n",
      " 8   UBIGEO           float64\n",
      " 9   id_persona       float64\n",
      "dtypes: float64(4), int64(1), object(5)\n",
      "memory usage: 344.2+ MB\n"
     ]
    }
   ],
   "source": [
    "df_casos.info()"
   ]
  },
  {
   "cell_type": "code",
   "execution_count": 10,
   "metadata": {
    "ExecuteTime": {
     "end_time": "2023-07-01T01:30:38.684123200Z",
     "start_time": "2023-07-01T01:30:37.007047400Z"
    },
    "collapsed": false
   },
   "outputs": [
    {
     "data": {
      "text/html": [
       "<div>\n",
       "<style scoped>\n",
       "    .dataframe tbody tr th:only-of-type {\n",
       "        vertical-align: middle;\n",
       "    }\n",
       "\n",
       "    .dataframe tbody tr th {\n",
       "        vertical-align: top;\n",
       "    }\n",
       "\n",
       "    .dataframe thead th {\n",
       "        text-align: right;\n",
       "    }\n",
       "</style>\n",
       "<table border=\"1\" class=\"dataframe\">\n",
       "  <thead>\n",
       "    <tr style=\"text-align: right;\">\n",
       "      <th></th>\n",
       "      <th>FECHA_CORTE</th>\n",
       "      <th>EDAD</th>\n",
       "      <th>FECHA_RESULTADO</th>\n",
       "      <th>UBIGEO</th>\n",
       "      <th>id_persona</th>\n",
       "    </tr>\n",
       "  </thead>\n",
       "  <tbody>\n",
       "    <tr>\n",
       "      <th>count</th>\n",
       "      <td>4512091.0</td>\n",
       "      <td>4.511738e+06</td>\n",
       "      <td>4.510068e+06</td>\n",
       "      <td>4.279798e+06</td>\n",
       "      <td>4.428742e+06</td>\n",
       "    </tr>\n",
       "    <tr>\n",
       "      <th>mean</th>\n",
       "      <td>20230619.0</td>\n",
       "      <td>4.070017e+01</td>\n",
       "      <td>2.021320e+07</td>\n",
       "      <td>1.297543e+05</td>\n",
       "      <td>1.613361e+07</td>\n",
       "    </tr>\n",
       "    <tr>\n",
       "      <th>std</th>\n",
       "      <td>0.0</td>\n",
       "      <td>1.768422e+01</td>\n",
       "      <td>8.070649e+03</td>\n",
       "      <td>5.331901e+04</td>\n",
       "      <td>1.041432e+07</td>\n",
       "    </tr>\n",
       "    <tr>\n",
       "      <th>min</th>\n",
       "      <td>20230619.0</td>\n",
       "      <td>0.000000e+00</td>\n",
       "      <td>2.020031e+07</td>\n",
       "      <td>1.010100e+04</td>\n",
       "      <td>7.000000e+00</td>\n",
       "    </tr>\n",
       "    <tr>\n",
       "      <th>25%</th>\n",
       "      <td>20230619.0</td>\n",
       "      <td>2.800000e+01</td>\n",
       "      <td>2.021013e+07</td>\n",
       "      <td>1.001020e+05</td>\n",
       "      <td>6.931962e+06</td>\n",
       "    </tr>\n",
       "    <tr>\n",
       "      <th>50%</th>\n",
       "      <td>20230619.0</td>\n",
       "      <td>3.900000e+01</td>\n",
       "      <td>2.021112e+07</td>\n",
       "      <td>1.501100e+05</td>\n",
       "      <td>1.518234e+07</td>\n",
       "    </tr>\n",
       "    <tr>\n",
       "      <th>75%</th>\n",
       "      <td>20230619.0</td>\n",
       "      <td>5.200000e+01</td>\n",
       "      <td>2.022020e+07</td>\n",
       "      <td>1.501350e+05</td>\n",
       "      <td>2.431123e+07</td>\n",
       "    </tr>\n",
       "    <tr>\n",
       "      <th>max</th>\n",
       "      <td>20230619.0</td>\n",
       "      <td>1.250000e+02</td>\n",
       "      <td>2.023062e+07</td>\n",
       "      <td>2.504010e+05</td>\n",
       "      <td>3.945499e+07</td>\n",
       "    </tr>\n",
       "  </tbody>\n",
       "</table>\n",
       "</div>"
      ],
      "text/plain": [
       "       FECHA_CORTE          EDAD  FECHA_RESULTADO        UBIGEO    id_persona\n",
       "count    4512091.0  4.511738e+06     4.510068e+06  4.279798e+06  4.428742e+06\n",
       "mean    20230619.0  4.070017e+01     2.021320e+07  1.297543e+05  1.613361e+07\n",
       "std            0.0  1.768422e+01     8.070649e+03  5.331901e+04  1.041432e+07\n",
       "min     20230619.0  0.000000e+00     2.020031e+07  1.010100e+04  7.000000e+00\n",
       "25%     20230619.0  2.800000e+01     2.021013e+07  1.001020e+05  6.931962e+06\n",
       "50%     20230619.0  3.900000e+01     2.021112e+07  1.501100e+05  1.518234e+07\n",
       "75%     20230619.0  5.200000e+01     2.022020e+07  1.501350e+05  2.431123e+07\n",
       "max     20230619.0  1.250000e+02     2.023062e+07  2.504010e+05  3.945499e+07"
      ]
     },
     "execution_count": 10,
     "metadata": {},
     "output_type": "execute_result"
    }
   ],
   "source": [
    "df_casos.describe()"
   ]
  },
  {
   "cell_type": "code",
   "execution_count": 14,
   "metadata": {
    "ExecuteTime": {
     "end_time": "2023-07-01T01:31:09.612577900Z",
     "start_time": "2023-07-01T01:31:09.597618Z"
    },
    "collapsed": false
   },
   "outputs": [
    {
     "data": {
      "text/plain": [
       "Index(['FECHA_CORTE', 'DEPARTAMENTO', 'PROVINCIA', 'DISTRITO', 'METODODX',\n",
       "       'EDAD', 'SEXO', 'FECHA_RESULTADO', 'UBIGEO', 'id_persona'],\n",
       "      dtype='object')"
      ]
     },
     "execution_count": 14,
     "metadata": {},
     "output_type": "execute_result"
    }
   ],
   "source": [
    "df_casos.columns"
   ]
  },
  {
   "cell_type": "code",
   "execution_count": 15,
   "metadata": {
    "ExecuteTime": {
     "end_time": "2023-07-01T01:31:28.259812600Z",
     "start_time": "2023-07-01T01:31:22.062138900Z"
    },
    "collapsed": false
   },
   "outputs": [
    {
     "data": {
      "text/plain": [
       "FECHA_CORTE             0\n",
       "DEPARTAMENTO            0\n",
       "PROVINCIA               0\n",
       "DISTRITO                0\n",
       "METODODX                0\n",
       "EDAD                  353\n",
       "SEXO                    1\n",
       "FECHA_RESULTADO      2023\n",
       "UBIGEO             232293\n",
       "id_persona          83349\n",
       "dtype: int64"
      ]
     },
     "execution_count": 15,
     "metadata": {},
     "output_type": "execute_result"
    }
   ],
   "source": [
    "df_casos.isnull().sum()"
   ]
  },
  {
   "cell_type": "code",
   "execution_count": 47,
   "metadata": {
    "collapsed": false,
    "ExecuteTime": {
     "end_time": "2023-07-01T02:00:00.532005700Z",
     "start_time": "2023-07-01T01:59:54.283332200Z"
    }
   },
   "outputs": [
    {
     "data": {
      "text/plain": "FECHA_CORTE             0\nDEPARTAMENTO            0\nPROVINCIA               0\nDISTRITO                0\nMETODODX                0\nEDAD                  353\nSEXO                    1\nFECHA_RESULTADO      2023\nUBIGEO             232293\nid_persona          83349\ndtype: int64"
     },
     "execution_count": 47,
     "metadata": {},
     "output_type": "execute_result"
    }
   ],
   "source": [
    "df_casos.isnull().sum()\n"
   ]
  },
  {
   "cell_type": "code",
   "execution_count": 48,
   "outputs": [
    {
     "data": {
      "text/plain": "         FECHA_CORTE DEPARTAMENTO         PROVINCIA     DISTRITO METODODX  \\\n0           20230619       CALLAO            CALLAO       CALLAO       PR   \n1           20230619   LAMBAYEQUE          CHICLAYO     CHICLAYO      PCR   \n2           20230619        TACNA             TACNA        TACNA      PCR   \n3           20230619     AREQUIPA          AREQUIPA     AREQUIPA      PCR   \n4           20230619         LIMA              LIMA   SAN MIGUEL      PCR   \n...              ...          ...               ...          ...      ...   \n4512086     20230619         LIMA              LIMA  EL AGUSTINO      PCR   \n4512087     20230619       CALLAO            CALLAO       CALLAO      PCR   \n4512088     20230619      UCAYALI  CORONEL PORTILLO     CALLERIA       AG   \n4512089     20230619       CALLAO            CALLAO       CALLAO      PCR   \n4512090     20230619       CALLAO            CALLAO       CALLAO       PR   \n\n         EDAD       SEXO  FECHA_RESULTADO    UBIGEO  id_persona  \n0        34.0   FEMENINO       20200815.0   70101.0  13913755.0  \n1        36.0  MASCULINO       20220801.0  140101.0  13913762.0  \n2        55.0  MASCULINO       20201026.0  230101.0  13914093.0  \n3        59.0   FEMENINO       20210511.0   40101.0  13914112.0  \n4        25.0   FEMENINO       20200911.0  150136.0  13914350.0  \n...       ...        ...              ...       ...         ...  \n4512086  41.0  MASCULINO       20220117.0  150111.0         NaN  \n4512087  50.0   FEMENINO       20220206.0   70101.0         NaN  \n4512088   0.0   FEMENINO       20220816.0  250101.0         NaN  \n4512089  52.0  MASCULINO       20210911.0   70101.0         NaN  \n4512090  27.0   FEMENINO       20201026.0   70101.0         NaN  \n\n[4512091 rows x 10 columns]",
      "text/html": "<div>\n<style scoped>\n    .dataframe tbody tr th:only-of-type {\n        vertical-align: middle;\n    }\n\n    .dataframe tbody tr th {\n        vertical-align: top;\n    }\n\n    .dataframe thead th {\n        text-align: right;\n    }\n</style>\n<table border=\"1\" class=\"dataframe\">\n  <thead>\n    <tr style=\"text-align: right;\">\n      <th></th>\n      <th>FECHA_CORTE</th>\n      <th>DEPARTAMENTO</th>\n      <th>PROVINCIA</th>\n      <th>DISTRITO</th>\n      <th>METODODX</th>\n      <th>EDAD</th>\n      <th>SEXO</th>\n      <th>FECHA_RESULTADO</th>\n      <th>UBIGEO</th>\n      <th>id_persona</th>\n    </tr>\n  </thead>\n  <tbody>\n    <tr>\n      <th>0</th>\n      <td>20230619</td>\n      <td>CALLAO</td>\n      <td>CALLAO</td>\n      <td>CALLAO</td>\n      <td>PR</td>\n      <td>34.0</td>\n      <td>FEMENINO</td>\n      <td>20200815.0</td>\n      <td>70101.0</td>\n      <td>13913755.0</td>\n    </tr>\n    <tr>\n      <th>1</th>\n      <td>20230619</td>\n      <td>LAMBAYEQUE</td>\n      <td>CHICLAYO</td>\n      <td>CHICLAYO</td>\n      <td>PCR</td>\n      <td>36.0</td>\n      <td>MASCULINO</td>\n      <td>20220801.0</td>\n      <td>140101.0</td>\n      <td>13913762.0</td>\n    </tr>\n    <tr>\n      <th>2</th>\n      <td>20230619</td>\n      <td>TACNA</td>\n      <td>TACNA</td>\n      <td>TACNA</td>\n      <td>PCR</td>\n      <td>55.0</td>\n      <td>MASCULINO</td>\n      <td>20201026.0</td>\n      <td>230101.0</td>\n      <td>13914093.0</td>\n    </tr>\n    <tr>\n      <th>3</th>\n      <td>20230619</td>\n      <td>AREQUIPA</td>\n      <td>AREQUIPA</td>\n      <td>AREQUIPA</td>\n      <td>PCR</td>\n      <td>59.0</td>\n      <td>FEMENINO</td>\n      <td>20210511.0</td>\n      <td>40101.0</td>\n      <td>13914112.0</td>\n    </tr>\n    <tr>\n      <th>4</th>\n      <td>20230619</td>\n      <td>LIMA</td>\n      <td>LIMA</td>\n      <td>SAN MIGUEL</td>\n      <td>PCR</td>\n      <td>25.0</td>\n      <td>FEMENINO</td>\n      <td>20200911.0</td>\n      <td>150136.0</td>\n      <td>13914350.0</td>\n    </tr>\n    <tr>\n      <th>...</th>\n      <td>...</td>\n      <td>...</td>\n      <td>...</td>\n      <td>...</td>\n      <td>...</td>\n      <td>...</td>\n      <td>...</td>\n      <td>...</td>\n      <td>...</td>\n      <td>...</td>\n    </tr>\n    <tr>\n      <th>4512086</th>\n      <td>20230619</td>\n      <td>LIMA</td>\n      <td>LIMA</td>\n      <td>EL AGUSTINO</td>\n      <td>PCR</td>\n      <td>41.0</td>\n      <td>MASCULINO</td>\n      <td>20220117.0</td>\n      <td>150111.0</td>\n      <td>NaN</td>\n    </tr>\n    <tr>\n      <th>4512087</th>\n      <td>20230619</td>\n      <td>CALLAO</td>\n      <td>CALLAO</td>\n      <td>CALLAO</td>\n      <td>PCR</td>\n      <td>50.0</td>\n      <td>FEMENINO</td>\n      <td>20220206.0</td>\n      <td>70101.0</td>\n      <td>NaN</td>\n    </tr>\n    <tr>\n      <th>4512088</th>\n      <td>20230619</td>\n      <td>UCAYALI</td>\n      <td>CORONEL PORTILLO</td>\n      <td>CALLERIA</td>\n      <td>AG</td>\n      <td>0.0</td>\n      <td>FEMENINO</td>\n      <td>20220816.0</td>\n      <td>250101.0</td>\n      <td>NaN</td>\n    </tr>\n    <tr>\n      <th>4512089</th>\n      <td>20230619</td>\n      <td>CALLAO</td>\n      <td>CALLAO</td>\n      <td>CALLAO</td>\n      <td>PCR</td>\n      <td>52.0</td>\n      <td>MASCULINO</td>\n      <td>20210911.0</td>\n      <td>70101.0</td>\n      <td>NaN</td>\n    </tr>\n    <tr>\n      <th>4512090</th>\n      <td>20230619</td>\n      <td>CALLAO</td>\n      <td>CALLAO</td>\n      <td>CALLAO</td>\n      <td>PR</td>\n      <td>27.0</td>\n      <td>FEMENINO</td>\n      <td>20201026.0</td>\n      <td>70101.0</td>\n      <td>NaN</td>\n    </tr>\n  </tbody>\n</table>\n<p>4512091 rows × 10 columns</p>\n</div>"
     },
     "execution_count": 48,
     "metadata": {},
     "output_type": "execute_result"
    }
   ],
   "source": [
    "df_casos"
   ],
   "metadata": {
    "collapsed": false,
    "ExecuteTime": {
     "end_time": "2023-07-01T02:00:14.410788700Z",
     "start_time": "2023-07-01T02:00:14.362893Z"
    }
   }
  },
  {
   "cell_type": "code",
   "execution_count": 85,
   "outputs": [
    {
     "data": {
      "text/plain": "         FECHA_CORTE DEPARTAMENTO   PROVINCIA              DISTRITO METODODX  \\\n0           20230619       CALLAO      CALLAO                CALLAO       PR   \n1           20230619   LAMBAYEQUE    CHICLAYO              CHICLAYO      PCR   \n2           20230619        TACNA       TACNA                 TACNA      PCR   \n3           20230619     AREQUIPA    AREQUIPA              AREQUIPA      PCR   \n4           20230619         LIMA        LIMA            SAN MIGUEL      PCR   \n...              ...          ...         ...                   ...      ...   \n4428887     20230619   SAN MARTIN  SAN MARTIN  LA BANDA DE SHILCAYO       AG   \n4428898     20230619         LIMA        LIMA                  LIMA       AG   \n4428899     20230619         LIMA        LIMA                  LIMA      PCR   \n4428900     20230619     AREQUIPA    AREQUIPA              AREQUIPA      PCR   \n4428901     20230619    CAJAMARCA       CHOTA                PACCHA       AG   \n\n         EDAD       SEXO  FECHA_RESULTADO    UBIGEO  id_persona  \n0        34.0   FEMENINO       20200815.0   70101.0  13913755.0  \n1        36.0  MASCULINO       20220801.0  140101.0  13913762.0  \n2        55.0  MASCULINO       20201026.0  230101.0  13914093.0  \n3        59.0   FEMENINO       20210511.0   40101.0  13914112.0  \n4        25.0   FEMENINO       20200911.0  150136.0  13914350.0  \n...       ...        ...              ...       ...         ...  \n4428887   0.0   FEMENINO       20220726.0  220909.0  39424208.0  \n4428898  52.0  MASCULINO       20230502.0  150101.0  38615568.0  \n4428899   6.0   FEMENINO       20220127.0  150101.0  38615824.0  \n4428900   0.0  MASCULINO       20220127.0   40101.0  38616012.0  \n4428901   0.0  MASCULINO       20220127.0   60413.0  38616066.0  \n\n[4196787 rows x 10 columns]",
      "text/html": "<div>\n<style scoped>\n    .dataframe tbody tr th:only-of-type {\n        vertical-align: middle;\n    }\n\n    .dataframe tbody tr th {\n        vertical-align: top;\n    }\n\n    .dataframe thead th {\n        text-align: right;\n    }\n</style>\n<table border=\"1\" class=\"dataframe\">\n  <thead>\n    <tr style=\"text-align: right;\">\n      <th></th>\n      <th>FECHA_CORTE</th>\n      <th>DEPARTAMENTO</th>\n      <th>PROVINCIA</th>\n      <th>DISTRITO</th>\n      <th>METODODX</th>\n      <th>EDAD</th>\n      <th>SEXO</th>\n      <th>FECHA_RESULTADO</th>\n      <th>UBIGEO</th>\n      <th>id_persona</th>\n    </tr>\n  </thead>\n  <tbody>\n    <tr>\n      <th>0</th>\n      <td>20230619</td>\n      <td>CALLAO</td>\n      <td>CALLAO</td>\n      <td>CALLAO</td>\n      <td>PR</td>\n      <td>34.0</td>\n      <td>FEMENINO</td>\n      <td>20200815.0</td>\n      <td>70101.0</td>\n      <td>13913755.0</td>\n    </tr>\n    <tr>\n      <th>1</th>\n      <td>20230619</td>\n      <td>LAMBAYEQUE</td>\n      <td>CHICLAYO</td>\n      <td>CHICLAYO</td>\n      <td>PCR</td>\n      <td>36.0</td>\n      <td>MASCULINO</td>\n      <td>20220801.0</td>\n      <td>140101.0</td>\n      <td>13913762.0</td>\n    </tr>\n    <tr>\n      <th>2</th>\n      <td>20230619</td>\n      <td>TACNA</td>\n      <td>TACNA</td>\n      <td>TACNA</td>\n      <td>PCR</td>\n      <td>55.0</td>\n      <td>MASCULINO</td>\n      <td>20201026.0</td>\n      <td>230101.0</td>\n      <td>13914093.0</td>\n    </tr>\n    <tr>\n      <th>3</th>\n      <td>20230619</td>\n      <td>AREQUIPA</td>\n      <td>AREQUIPA</td>\n      <td>AREQUIPA</td>\n      <td>PCR</td>\n      <td>59.0</td>\n      <td>FEMENINO</td>\n      <td>20210511.0</td>\n      <td>40101.0</td>\n      <td>13914112.0</td>\n    </tr>\n    <tr>\n      <th>4</th>\n      <td>20230619</td>\n      <td>LIMA</td>\n      <td>LIMA</td>\n      <td>SAN MIGUEL</td>\n      <td>PCR</td>\n      <td>25.0</td>\n      <td>FEMENINO</td>\n      <td>20200911.0</td>\n      <td>150136.0</td>\n      <td>13914350.0</td>\n    </tr>\n    <tr>\n      <th>...</th>\n      <td>...</td>\n      <td>...</td>\n      <td>...</td>\n      <td>...</td>\n      <td>...</td>\n      <td>...</td>\n      <td>...</td>\n      <td>...</td>\n      <td>...</td>\n      <td>...</td>\n    </tr>\n    <tr>\n      <th>4428887</th>\n      <td>20230619</td>\n      <td>SAN MARTIN</td>\n      <td>SAN MARTIN</td>\n      <td>LA BANDA DE SHILCAYO</td>\n      <td>AG</td>\n      <td>0.0</td>\n      <td>FEMENINO</td>\n      <td>20220726.0</td>\n      <td>220909.0</td>\n      <td>39424208.0</td>\n    </tr>\n    <tr>\n      <th>4428898</th>\n      <td>20230619</td>\n      <td>LIMA</td>\n      <td>LIMA</td>\n      <td>LIMA</td>\n      <td>AG</td>\n      <td>52.0</td>\n      <td>MASCULINO</td>\n      <td>20230502.0</td>\n      <td>150101.0</td>\n      <td>38615568.0</td>\n    </tr>\n    <tr>\n      <th>4428899</th>\n      <td>20230619</td>\n      <td>LIMA</td>\n      <td>LIMA</td>\n      <td>LIMA</td>\n      <td>PCR</td>\n      <td>6.0</td>\n      <td>FEMENINO</td>\n      <td>20220127.0</td>\n      <td>150101.0</td>\n      <td>38615824.0</td>\n    </tr>\n    <tr>\n      <th>4428900</th>\n      <td>20230619</td>\n      <td>AREQUIPA</td>\n      <td>AREQUIPA</td>\n      <td>AREQUIPA</td>\n      <td>PCR</td>\n      <td>0.0</td>\n      <td>MASCULINO</td>\n      <td>20220127.0</td>\n      <td>40101.0</td>\n      <td>38616012.0</td>\n    </tr>\n    <tr>\n      <th>4428901</th>\n      <td>20230619</td>\n      <td>CAJAMARCA</td>\n      <td>CHOTA</td>\n      <td>PACCHA</td>\n      <td>AG</td>\n      <td>0.0</td>\n      <td>MASCULINO</td>\n      <td>20220127.0</td>\n      <td>60413.0</td>\n      <td>38616066.0</td>\n    </tr>\n  </tbody>\n</table>\n<p>4196787 rows × 10 columns</p>\n</div>"
     },
     "execution_count": 85,
     "metadata": {},
     "output_type": "execute_result"
    }
   ],
   "source": [
    "df_casos_filtrado = df_casos[df_casos.notnull()]\n",
    "df_clean = df_casos_filtrado.dropna()\n",
    "df_clean"
   ],
   "metadata": {
    "collapsed": false,
    "ExecuteTime": {
     "end_time": "2023-07-01T02:35:36.900530500Z",
     "start_time": "2023-07-01T02:35:11.884950Z"
    }
   }
  },
  {
   "cell_type": "code",
   "execution_count": 87,
   "outputs": [
    {
     "data": {
      "text/plain": "<Axes: xlabel='EDAD', ylabel='SEXO'>"
     },
     "execution_count": 87,
     "metadata": {},
     "output_type": "execute_result"
    },
    {
     "data": {
      "text/plain": "<Figure size 640x480 with 1 Axes>",
      "image/png": "[encoded data removed]"
     },
     "metadata": {},
     "output_type": "display_data"
    }
   ],
   "source": [
    "sns.barplot(data=df_clean, x=\"EDAD\", y = \"SEXO\")"
   ],
   "metadata": {
    "collapsed": false,
    "ExecuteTime": {
     "end_time": "2023-07-01T02:43:26.068814800Z",
     "start_time": "2023-07-01T02:41:00.060574500Z"
    }
   }
  },
  {
   "cell_type": "code",
   "execution_count": 86,
   "outputs": [
    {
     "data": {
      "text/plain": "<Axes: xlabel='EDAD', ylabel='METODODX'>"
     },
     "execution_count": 86,
     "metadata": {},
     "output_type": "execute_result"
    },
    {
     "data": {
      "text/plain": "<Figure size 640x480 with 1 Axes>",
      "image/png": "[encoded data removed]"
     },
     "metadata": {},
     "output_type": "display_data"
    }
   ],
   "source": [
    "sns.barplot(data=df_casos, x=\"EDAD\", y = \"METODODX\")"
   ],
   "metadata": {
    "collapsed": false,
    "ExecuteTime": {
     "end_time": "2023-07-01T02:41:00.056584600Z",
     "start_time": "2023-07-01T02:37:44.504526500Z"
    }
   }
  },
  {
   "cell_type": "code",
   "execution_count": 88,
   "outputs": [
    {
     "data": {
      "text/plain": "       FECHA_CORTE          EDAD  FECHA_RESULTADO        UBIGEO    id_persona\ncount    4196787.0  4.196787e+06     4.196787e+06  4.196787e+06  4.196787e+06\nmean    20230619.0  4.078596e+01     2.021317e+07  1.296023e+05  1.614979e+07\nstd            0.0  1.764208e+01     8.074587e+03  5.341900e+04  1.041816e+07\nmin     20230619.0  0.000000e+00     2.020031e+07  1.010100e+04  7.000000e+00\n25%     20230619.0  2.800000e+01     2.021013e+07  1.001010e+05  6.942744e+06\n50%     20230619.0  3.900000e+01     2.021112e+07  1.501100e+05  1.520314e+07\n75%     20230619.0  5.300000e+01     2.022020e+07  1.501360e+05  2.433364e+07\nmax     20230619.0  1.250000e+02     2.023062e+07  2.504010e+05  3.945499e+07",
      "text/html": "<div>\n<style scoped>\n    .dataframe tbody tr th:only-of-type {\n        vertical-align: middle;\n    }\n\n    .dataframe tbody tr th {\n        vertical-align: top;\n    }\n\n    .dataframe thead th {\n        text-align: right;\n    }\n</style>\n<table border=\"1\" class=\"dataframe\">\n  <thead>\n    <tr style=\"text-align: right;\">\n      <th></th>\n      <th>FECHA_CORTE</th>\n      <th>EDAD</th>\n      <th>FECHA_RESULTADO</th>\n      <th>UBIGEO</th>\n      <th>id_persona</th>\n    </tr>\n  </thead>\n  <tbody>\n    <tr>\n      <th>count</th>\n      <td>4196787.0</td>\n      <td>4.196787e+06</td>\n      <td>4.196787e+06</td>\n      <td>4.196787e+06</td>\n      <td>4.196787e+06</td>\n    </tr>\n    <tr>\n      <th>mean</th>\n      <td>20230619.0</td>\n      <td>4.078596e+01</td>\n      <td>2.021317e+07</td>\n      <td>1.296023e+05</td>\n      <td>1.614979e+07</td>\n    </tr>\n    <tr>\n      <th>std</th>\n      <td>0.0</td>\n      <td>1.764208e+01</td>\n      <td>8.074587e+03</td>\n      <td>5.341900e+04</td>\n      <td>1.041816e+07</td>\n    </tr>\n    <tr>\n      <th>min</th>\n      <td>20230619.0</td>\n      <td>0.000000e+00</td>\n      <td>2.020031e+07</td>\n      <td>1.010100e+04</td>\n      <td>7.000000e+00</td>\n    </tr>\n    <tr>\n      <th>25%</th>\n      <td>20230619.0</td>\n      <td>2.800000e+01</td>\n      <td>2.021013e+07</td>\n      <td>1.001010e+05</td>\n      <td>6.942744e+06</td>\n    </tr>\n    <tr>\n      <th>50%</th>\n      <td>20230619.0</td>\n      <td>3.900000e+01</td>\n      <td>2.021112e+07</td>\n      <td>1.501100e+05</td>\n      <td>1.520314e+07</td>\n    </tr>\n    <tr>\n      <th>75%</th>\n      <td>20230619.0</td>\n      <td>5.300000e+01</td>\n      <td>2.022020e+07</td>\n      <td>1.501360e+05</td>\n      <td>2.433364e+07</td>\n    </tr>\n    <tr>\n      <th>max</th>\n      <td>20230619.0</td>\n      <td>1.250000e+02</td>\n      <td>2.023062e+07</td>\n      <td>2.504010e+05</td>\n      <td>3.945499e+07</td>\n    </tr>\n  </tbody>\n</table>\n</div>"
     },
     "execution_count": 88,
     "metadata": {},
     "output_type": "execute_result"
    }
   ],
   "source": [
    "df_clean.describe()"
   ],
   "metadata": {
    "collapsed": false,
    "ExecuteTime": {
     "end_time": "2023-07-01T02:43:27.408153400Z",
     "start_time": "2023-07-01T02:43:26.073802700Z"
    }
   }
  },
  {
   "cell_type": "code",
   "execution_count": 89,
   "outputs": [
    {
     "name": "stdout",
     "output_type": "stream",
     "text": [
      "<class 'pandas.core.frame.DataFrame'>\n",
      "Int64Index: 4196787 entries, 0 to 4428901\n",
      "Data columns (total 10 columns):\n",
      " #   Column           Dtype  \n",
      "---  ------           -----  \n",
      " 0   FECHA_CORTE      int64  \n",
      " 1   DEPARTAMENTO     object \n",
      " 2   PROVINCIA        object \n",
      " 3   DISTRITO         object \n",
      " 4   METODODX         object \n",
      " 5   EDAD             float64\n",
      " 6   SEXO             object \n",
      " 7   FECHA_RESULTADO  float64\n",
      " 8   UBIGEO           float64\n",
      " 9   id_persona       float64\n",
      "dtypes: float64(4), int64(1), object(5)\n",
      "memory usage: 352.2+ MB\n"
     ]
    }
   ],
   "source": [
    "df_clean.info()"
   ],
   "metadata": {
    "collapsed": false,
    "ExecuteTime": {
     "end_time": "2023-07-01T02:44:42.874170500Z",
     "start_time": "2023-07-01T02:44:42.771918Z"
    }
   }
  },
  {
   "cell_type": "code",
   "execution_count": null,
   "outputs": [],
   "source": [],
   "metadata": {
    "collapsed": false
   }
  }
 ],
 "metadata": {
  "kernelspec": {
   "display_name": "base",
   "language": "python",
   "name": "python3"
  },
  "language_info": {
   "codemirror_mode": {
    "name": "ipython",
    "version": 3
   },
   "file_extension": ".py",
   "mimetype": "text/x-python",
   "name": "python",
   "nbconvert_exporter": "python",
   "pygments_lexer": "ipython3",
   "version": "3.10.9"
  },
  "orig_nbformat": 4
 },
 "nbformat": 4,
 "nbformat_minor": 2
}
